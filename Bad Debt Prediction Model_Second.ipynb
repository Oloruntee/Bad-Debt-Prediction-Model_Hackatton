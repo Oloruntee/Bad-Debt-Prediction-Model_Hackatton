{
 "cells": [
  {
   "cell_type": "markdown",
   "metadata": {},
   "source": [
    "## Business Context\n",
    "The real estate sector can be very unpredictable and susceptible to a downturn in times of economic crisis. Whenever the economy suffers, the number of stressed assets can become a huge problem for housing finance companies. The bad debt and stressed assets result in a liquidity crunch and impact the banks that are lenders to both developers and property buyers. Timely risk analysis of these accounts can help lenders forecast the number and value of accounts that are at risk of developing into a Bad Debt in near future and eventually help them mitigate the losses.\n",
    "\n",
    "## About the Data\n",
    "The data belongs to the billing systems of various societies. These societies could be residential or public. The data has been collected over the years and has been summarised according to the total amount billed versus the total amount generated from the consumers. For each account, there is a label indicating whether an account resulted in a Bad Debt (the account that would be unable to pay the amount).\n",
    "\n",
    "## Feature Summary\n",
    "AccID: An unique id for the account\n",
    "\n",
    "CategoryID: An unique id for the category of the society\n",
    "\n",
    "Category: Category of society \n",
    "\n",
    "Value: The market value of the particular property (account)\n",
    "\n",
    "PropertySize: The size of the property in square meters\n",
    "\n",
    "BillingAmt: The total amount payable by the resident to the society management\n",
    "\n",
    "AverageBillingAmt: The average amount payable by the resident to the society management\n",
    "\n",
    "CollectedAmt: The total amount collected from the resident \n",
    "\n",
    "AverageCollectedAmt: The average amount collected from the resident \n",
    "\n",
    "DebtAmt: The Total Debt that is at 90 days or more\n",
    "\n",
    "WriteOffAmt: The Total amount of debt that has been written off\n",
    "\n",
    "CollectionRatio: The ratio between the Total amount collected and Total Billing (ie. CollectedAmt/ BillingAmt)\n",
    "\n",
    "DebtBillingRatio: The ratio between the Total Debt and Total Billing (ie. (Total Debt + Total Write Off)/Total Billing)\n",
    "\n",
    "TotalElectricityBill: The total amount billed for electricity. This field was put in place because it is used as a means to recover debt - ie. If an amount is outstanding for any service the management has the right to cut a consumer's electricity connection.\n",
    "\n",
    "HasID: The resident has an ID number. \n",
    "\n",
    "Label: 1 = Is considered to be a Bad Debt, 0 = Not considered to be a Bad Debt"
   ]
  },
  {
   "cell_type": "code",
   "execution_count": 67,
   "metadata": {},
   "outputs": [],
   "source": [
    "\n",
    "# To split the data\n",
    "from sklearn.model_selection import train_test_split\n",
    "\n",
    "# To impute missing values\n",
    "from sklearn.impute import SimpleImputer\n",
    "\n",
    "# To build a Random forest classifier\n",
    "from sklearn.ensemble import RandomForestClassifier\n",
    "\n",
    "# To tune a model\n",
    "from sklearn.model_selection import GridSearchCV\n",
    "from sklearn.model_selection import RandomizedSearchCV\n",
    "\n",
    "# To get different performance metrics\n",
    "import sklearn.metrics as metrics\n",
    "from sklearn.metrics import (\n",
    "    classification_report,\n",
    "    confusion_matrix,\n",
    "    recall_score,\n",
    "    accuracy_score,\n",
    "    precision_score,\n",
    "    f1_score,\n",
    ")\n",
    "\n",
    "# Libraries to help with reading and manipulating data\n",
    "import numpy as np\n",
    "import pandas as pd\n",
    "\n",
    "# Libraries to help with data visualization\n",
    "import matplotlib.pyplot as plt\n",
    "%matplotlib inline\n",
    "import seaborn as sns\n",
    "\n",
    "# Libraries to split data, impute missing values \n",
    "from sklearn.model_selection import train_test_split\n",
    "\n",
    "# Libraries to import decision tree classifier and different ensemble classifiers\n",
    "from sklearn.ensemble import BaggingClassifier\n",
    "from sklearn.ensemble import RandomForestClassifier\n",
    "from sklearn.ensemble import AdaBoostClassifier, GradientBoostingClassifier\n",
    "from xgboost import XGBClassifier\n",
    "from sklearn.ensemble import StackingClassifier\n",
    "from sklearn.tree import DecisionTreeClassifier\n",
    "\n",
    "# Libtune to tune model, get different metric scoresny\n",
    "from sklearn import metrics\n",
    "from sklearn.metrics import confusion_matrix, classification_report, accuracy_score, precision_score, recall_score, f1_score, roc_auc_score\n",
    "from sklearn.model_selection import GridSearchCV\n",
    "# To suppress warnings\n",
    "import warnings\n",
    "\n",
    "warnings.filterwarnings(\"ignore\")"
   ]
  },
  {
   "cell_type": "code",
   "execution_count": 68,
   "metadata": {},
   "outputs": [],
   "source": [
    "data  = pd.read_csv('account_train_1.csv')"
   ]
  },
  {
   "cell_type": "code",
   "execution_count": 69,
   "metadata": {},
   "outputs": [
    {
     "data": {
      "text/html": [
       "<div>\n",
       "<style scoped>\n",
       "    .dataframe tbody tr th:only-of-type {\n",
       "        vertical-align: middle;\n",
       "    }\n",
       "\n",
       "    .dataframe tbody tr th {\n",
       "        vertical-align: top;\n",
       "    }\n",
       "\n",
       "    .dataframe thead th {\n",
       "        text-align: right;\n",
       "    }\n",
       "</style>\n",
       "<table border=\"1\" class=\"dataframe\">\n",
       "  <thead>\n",
       "    <tr style=\"text-align: right;\">\n",
       "      <th></th>\n",
       "      <th>AccID</th>\n",
       "      <th>CategoryID</th>\n",
       "      <th>Category</th>\n",
       "      <th>Value</th>\n",
       "      <th>PropertySize</th>\n",
       "      <th>BillingAmt</th>\n",
       "      <th>AverageBillingAmt</th>\n",
       "      <th>CollectedAmt</th>\n",
       "      <th>AverageCollectedAmt</th>\n",
       "      <th>DebtAmt</th>\n",
       "      <th>WriteOffAmt</th>\n",
       "      <th>CollectionRatio</th>\n",
       "      <th>DebtBillingRatio</th>\n",
       "      <th>TotalElectricityBill</th>\n",
       "      <th>HasID</th>\n",
       "    </tr>\n",
       "  </thead>\n",
       "  <tbody>\n",
       "    <tr>\n",
       "      <th>0</th>\n",
       "      <td>d0390389-df62-4bf1-8659-bbc736ce777d</td>\n",
       "      <td>1</td>\n",
       "      <td>Residential</td>\n",
       "      <td>45000</td>\n",
       "      <td>291</td>\n",
       "      <td>2569</td>\n",
       "      <td>103</td>\n",
       "      <td>0</td>\n",
       "      <td>0</td>\n",
       "      <td>15104</td>\n",
       "      <td>0</td>\n",
       "      <td>0.00</td>\n",
       "      <td>5.88</td>\n",
       "      <td>0</td>\n",
       "      <td>1</td>\n",
       "    </tr>\n",
       "    <tr>\n",
       "      <th>1</th>\n",
       "      <td>b662b850-85e7-40d6-8fdd-3c2566a154dd</td>\n",
       "      <td>1</td>\n",
       "      <td>Residential</td>\n",
       "      <td>440000</td>\n",
       "      <td>794</td>\n",
       "      <td>9065</td>\n",
       "      <td>245</td>\n",
       "      <td>9065</td>\n",
       "      <td>2266</td>\n",
       "      <td>0</td>\n",
       "      <td>0</td>\n",
       "      <td>1.00</td>\n",
       "      <td>0.00</td>\n",
       "      <td>3132</td>\n",
       "      <td>1</td>\n",
       "    </tr>\n",
       "    <tr>\n",
       "      <th>2</th>\n",
       "      <td>41b6ebc4-569c-4c93-8cfa-3d85bce546ac</td>\n",
       "      <td>4</td>\n",
       "      <td>Agricultural</td>\n",
       "      <td>991700</td>\n",
       "      <td>3211597</td>\n",
       "      <td>397</td>\n",
       "      <td>397</td>\n",
       "      <td>0</td>\n",
       "      <td>0</td>\n",
       "      <td>0</td>\n",
       "      <td>0</td>\n",
       "      <td>0.00</td>\n",
       "      <td>0.00</td>\n",
       "      <td>0</td>\n",
       "      <td>0</td>\n",
       "    </tr>\n",
       "    <tr>\n",
       "      <th>3</th>\n",
       "      <td>6f0ecc23-da5c-4b84-bcd0-4fae4b3a5aec</td>\n",
       "      <td>1</td>\n",
       "      <td>Residential</td>\n",
       "      <td>180000</td>\n",
       "      <td>572</td>\n",
       "      <td>1578</td>\n",
       "      <td>63</td>\n",
       "      <td>5278</td>\n",
       "      <td>586</td>\n",
       "      <td>1741</td>\n",
       "      <td>0</td>\n",
       "      <td>3.35</td>\n",
       "      <td>1.10</td>\n",
       "      <td>0</td>\n",
       "      <td>0</td>\n",
       "    </tr>\n",
       "    <tr>\n",
       "      <th>4</th>\n",
       "      <td>6467f24e-d256-4e6d-8c0d-b726e8d80f48</td>\n",
       "      <td>1</td>\n",
       "      <td>Residential</td>\n",
       "      <td>43000</td>\n",
       "      <td>268</td>\n",
       "      <td>30</td>\n",
       "      <td>1</td>\n",
       "      <td>0</td>\n",
       "      <td>0</td>\n",
       "      <td>0</td>\n",
       "      <td>0</td>\n",
       "      <td>0.00</td>\n",
       "      <td>0.00</td>\n",
       "      <td>0</td>\n",
       "      <td>0</td>\n",
       "    </tr>\n",
       "  </tbody>\n",
       "</table>\n",
       "</div>"
      ],
      "text/plain": [
       "                                  AccID  CategoryID      Category   Value  \\\n",
       "0  d0390389-df62-4bf1-8659-bbc736ce777d           1   Residential   45000   \n",
       "1  b662b850-85e7-40d6-8fdd-3c2566a154dd           1   Residential  440000   \n",
       "2  41b6ebc4-569c-4c93-8cfa-3d85bce546ac           4  Agricultural  991700   \n",
       "3  6f0ecc23-da5c-4b84-bcd0-4fae4b3a5aec           1   Residential  180000   \n",
       "4  6467f24e-d256-4e6d-8c0d-b726e8d80f48           1   Residential   43000   \n",
       "\n",
       "   PropertySize  BillingAmt  AverageBillingAmt  CollectedAmt  \\\n",
       "0           291        2569                103             0   \n",
       "1           794        9065                245          9065   \n",
       "2       3211597         397                397             0   \n",
       "3           572        1578                 63          5278   \n",
       "4           268          30                  1             0   \n",
       "\n",
       "   AverageCollectedAmt  DebtAmt  WriteOffAmt  CollectionRatio  \\\n",
       "0                    0    15104            0             0.00   \n",
       "1                 2266        0            0             1.00   \n",
       "2                    0        0            0             0.00   \n",
       "3                  586     1741            0             3.35   \n",
       "4                    0        0            0             0.00   \n",
       "\n",
       "   DebtBillingRatio  TotalElectricityBill  HasID  \n",
       "0              5.88                     0      1  \n",
       "1              0.00                  3132      1  \n",
       "2              0.00                     0      0  \n",
       "3              1.10                     0      0  \n",
       "4              0.00                     0      0  "
      ]
     },
     "execution_count": 69,
     "metadata": {},
     "output_type": "execute_result"
    }
   ],
   "source": [
    "data_predict = pd.read_csv('account_test_1.csv')\n",
    "data_predict.head()\n",
    "\n"
   ]
  },
  {
   "cell_type": "code",
   "execution_count": 109,
   "metadata": {},
   "outputs": [],
   "source": [
    "data.drop(['Category','HasID','AverageCollectedAmt'], axis=1, inplace=True)"
   ]
  },
  {
   "cell_type": "code",
   "execution_count": 70,
   "metadata": {},
   "outputs": [],
   "source": [
    "data_predict.drop(['Category','HasID','AverageCollectedAmt'], axis=1, inplace=True)"
   ]
  },
  {
   "cell_type": "code",
   "execution_count": 71,
   "metadata": {},
   "outputs": [
    {
     "data": {
      "text/html": [
       "<div>\n",
       "<style scoped>\n",
       "    .dataframe tbody tr th:only-of-type {\n",
       "        vertical-align: middle;\n",
       "    }\n",
       "\n",
       "    .dataframe tbody tr th {\n",
       "        vertical-align: top;\n",
       "    }\n",
       "\n",
       "    .dataframe thead th {\n",
       "        text-align: right;\n",
       "    }\n",
       "</style>\n",
       "<table border=\"1\" class=\"dataframe\">\n",
       "  <thead>\n",
       "    <tr style=\"text-align: right;\">\n",
       "      <th></th>\n",
       "      <th>AccID</th>\n",
       "      <th>CategoryID</th>\n",
       "      <th>Value</th>\n",
       "      <th>PropertySize</th>\n",
       "      <th>BillingAmt</th>\n",
       "      <th>AverageBillingAmt</th>\n",
       "      <th>CollectedAmt</th>\n",
       "      <th>DebtAmt</th>\n",
       "      <th>WriteOffAmt</th>\n",
       "      <th>CollectionRatio</th>\n",
       "      <th>DebtBillingRatio</th>\n",
       "      <th>TotalElectricityBill</th>\n",
       "    </tr>\n",
       "  </thead>\n",
       "  <tbody>\n",
       "    <tr>\n",
       "      <th>0</th>\n",
       "      <td>d0390389-df62-4bf1-8659-bbc736ce777d</td>\n",
       "      <td>1</td>\n",
       "      <td>45000</td>\n",
       "      <td>291</td>\n",
       "      <td>2569</td>\n",
       "      <td>103</td>\n",
       "      <td>0</td>\n",
       "      <td>15104</td>\n",
       "      <td>0</td>\n",
       "      <td>0.00</td>\n",
       "      <td>5.88</td>\n",
       "      <td>0</td>\n",
       "    </tr>\n",
       "    <tr>\n",
       "      <th>1</th>\n",
       "      <td>b662b850-85e7-40d6-8fdd-3c2566a154dd</td>\n",
       "      <td>1</td>\n",
       "      <td>440000</td>\n",
       "      <td>794</td>\n",
       "      <td>9065</td>\n",
       "      <td>245</td>\n",
       "      <td>9065</td>\n",
       "      <td>0</td>\n",
       "      <td>0</td>\n",
       "      <td>1.00</td>\n",
       "      <td>0.00</td>\n",
       "      <td>3132</td>\n",
       "    </tr>\n",
       "    <tr>\n",
       "      <th>2</th>\n",
       "      <td>41b6ebc4-569c-4c93-8cfa-3d85bce546ac</td>\n",
       "      <td>4</td>\n",
       "      <td>991700</td>\n",
       "      <td>3211597</td>\n",
       "      <td>397</td>\n",
       "      <td>397</td>\n",
       "      <td>0</td>\n",
       "      <td>0</td>\n",
       "      <td>0</td>\n",
       "      <td>0.00</td>\n",
       "      <td>0.00</td>\n",
       "      <td>0</td>\n",
       "    </tr>\n",
       "    <tr>\n",
       "      <th>3</th>\n",
       "      <td>6f0ecc23-da5c-4b84-bcd0-4fae4b3a5aec</td>\n",
       "      <td>1</td>\n",
       "      <td>180000</td>\n",
       "      <td>572</td>\n",
       "      <td>1578</td>\n",
       "      <td>63</td>\n",
       "      <td>5278</td>\n",
       "      <td>1741</td>\n",
       "      <td>0</td>\n",
       "      <td>3.35</td>\n",
       "      <td>1.10</td>\n",
       "      <td>0</td>\n",
       "    </tr>\n",
       "    <tr>\n",
       "      <th>4</th>\n",
       "      <td>6467f24e-d256-4e6d-8c0d-b726e8d80f48</td>\n",
       "      <td>1</td>\n",
       "      <td>43000</td>\n",
       "      <td>268</td>\n",
       "      <td>30</td>\n",
       "      <td>1</td>\n",
       "      <td>0</td>\n",
       "      <td>0</td>\n",
       "      <td>0</td>\n",
       "      <td>0.00</td>\n",
       "      <td>0.00</td>\n",
       "      <td>0</td>\n",
       "    </tr>\n",
       "  </tbody>\n",
       "</table>\n",
       "</div>"
      ],
      "text/plain": [
       "                                  AccID  CategoryID   Value  PropertySize  \\\n",
       "0  d0390389-df62-4bf1-8659-bbc736ce777d           1   45000           291   \n",
       "1  b662b850-85e7-40d6-8fdd-3c2566a154dd           1  440000           794   \n",
       "2  41b6ebc4-569c-4c93-8cfa-3d85bce546ac           4  991700       3211597   \n",
       "3  6f0ecc23-da5c-4b84-bcd0-4fae4b3a5aec           1  180000           572   \n",
       "4  6467f24e-d256-4e6d-8c0d-b726e8d80f48           1   43000           268   \n",
       "\n",
       "   BillingAmt  AverageBillingAmt  CollectedAmt  DebtAmt  WriteOffAmt  \\\n",
       "0        2569                103             0    15104            0   \n",
       "1        9065                245          9065        0            0   \n",
       "2         397                397             0        0            0   \n",
       "3        1578                 63          5278     1741            0   \n",
       "4          30                  1             0        0            0   \n",
       "\n",
       "   CollectionRatio  DebtBillingRatio  TotalElectricityBill  \n",
       "0             0.00              5.88                     0  \n",
       "1             1.00              0.00                  3132  \n",
       "2             0.00              0.00                     0  \n",
       "3             3.35              1.10                     0  \n",
       "4             0.00              0.00                     0  "
      ]
     },
     "execution_count": 71,
     "metadata": {},
     "output_type": "execute_result"
    }
   ],
   "source": [
    "data_predict.head()"
   ]
  },
  {
   "cell_type": "code",
   "execution_count": 72,
   "metadata": {},
   "outputs": [
    {
     "data": {
      "text/html": [
       "<div>\n",
       "<style scoped>\n",
       "    .dataframe tbody tr th:only-of-type {\n",
       "        vertical-align: middle;\n",
       "    }\n",
       "\n",
       "    .dataframe tbody tr th {\n",
       "        vertical-align: top;\n",
       "    }\n",
       "\n",
       "    .dataframe thead th {\n",
       "        text-align: right;\n",
       "    }\n",
       "</style>\n",
       "<table border=\"1\" class=\"dataframe\">\n",
       "  <thead>\n",
       "    <tr style=\"text-align: right;\">\n",
       "      <th></th>\n",
       "      <th>count</th>\n",
       "      <th>mean</th>\n",
       "      <th>std</th>\n",
       "      <th>min</th>\n",
       "      <th>25%</th>\n",
       "      <th>50%</th>\n",
       "      <th>75%</th>\n",
       "      <th>max</th>\n",
       "    </tr>\n",
       "  </thead>\n",
       "  <tbody>\n",
       "    <tr>\n",
       "      <th>CategoryID</th>\n",
       "      <td>100476.0</td>\n",
       "      <td>2.245511</td>\n",
       "      <td>2.730572e+00</td>\n",
       "      <td>1.0</td>\n",
       "      <td>1.0</td>\n",
       "      <td>1.0</td>\n",
       "      <td>2.00</td>\n",
       "      <td>13.0</td>\n",
       "    </tr>\n",
       "    <tr>\n",
       "      <th>Value</th>\n",
       "      <td>100476.0</td>\n",
       "      <td>707020.754379</td>\n",
       "      <td>3.047463e+06</td>\n",
       "      <td>0.0</td>\n",
       "      <td>35000.0</td>\n",
       "      <td>93000.0</td>\n",
       "      <td>750000.00</td>\n",
       "      <td>421860000.0</td>\n",
       "    </tr>\n",
       "    <tr>\n",
       "      <th>PropertySize</th>\n",
       "      <td>100476.0</td>\n",
       "      <td>746822.707124</td>\n",
       "      <td>5.651558e+06</td>\n",
       "      <td>0.0</td>\n",
       "      <td>276.0</td>\n",
       "      <td>511.0</td>\n",
       "      <td>1162.00</td>\n",
       "      <td>270515963.0</td>\n",
       "    </tr>\n",
       "    <tr>\n",
       "      <th>BillingAmt</th>\n",
       "      <td>100476.0</td>\n",
       "      <td>10899.514083</td>\n",
       "      <td>1.262341e+05</td>\n",
       "      <td>-4232630.0</td>\n",
       "      <td>461.0</td>\n",
       "      <td>3141.0</td>\n",
       "      <td>8715.00</td>\n",
       "      <td>26133617.0</td>\n",
       "    </tr>\n",
       "    <tr>\n",
       "      <th>AverageBillingAmt</th>\n",
       "      <td>100476.0</td>\n",
       "      <td>575.486484</td>\n",
       "      <td>6.430310e+03</td>\n",
       "      <td>-79384.0</td>\n",
       "      <td>23.0</td>\n",
       "      <td>107.0</td>\n",
       "      <td>281.00</td>\n",
       "      <td>805044.0</td>\n",
       "    </tr>\n",
       "    <tr>\n",
       "      <th>CollectedAmt</th>\n",
       "      <td>100476.0</td>\n",
       "      <td>9763.645487</td>\n",
       "      <td>1.201449e+05</td>\n",
       "      <td>-219260.0</td>\n",
       "      <td>0.0</td>\n",
       "      <td>360.0</td>\n",
       "      <td>7402.25</td>\n",
       "      <td>24371134.0</td>\n",
       "    </tr>\n",
       "    <tr>\n",
       "      <th>AverageCollectedAmt</th>\n",
       "      <td>100476.0</td>\n",
       "      <td>2044.687786</td>\n",
       "      <td>3.682487e+04</td>\n",
       "      <td>-219260.0</td>\n",
       "      <td>0.0</td>\n",
       "      <td>100.0</td>\n",
       "      <td>768.00</td>\n",
       "      <td>6828297.0</td>\n",
       "    </tr>\n",
       "    <tr>\n",
       "      <th>DebtAmt</th>\n",
       "      <td>100476.0</td>\n",
       "      <td>9642.500070</td>\n",
       "      <td>5.003013e+04</td>\n",
       "      <td>0.0</td>\n",
       "      <td>0.0</td>\n",
       "      <td>0.0</td>\n",
       "      <td>2298.00</td>\n",
       "      <td>6322610.0</td>\n",
       "    </tr>\n",
       "    <tr>\n",
       "      <th>WriteOffAmt</th>\n",
       "      <td>100476.0</td>\n",
       "      <td>602.765327</td>\n",
       "      <td>1.440915e+04</td>\n",
       "      <td>0.0</td>\n",
       "      <td>0.0</td>\n",
       "      <td>0.0</td>\n",
       "      <td>0.00</td>\n",
       "      <td>4306605.0</td>\n",
       "    </tr>\n",
       "    <tr>\n",
       "      <th>CollectionRatio</th>\n",
       "      <td>100476.0</td>\n",
       "      <td>19.536208</td>\n",
       "      <td>5.556991e+03</td>\n",
       "      <td>-115000.0</td>\n",
       "      <td>0.0</td>\n",
       "      <td>0.5</td>\n",
       "      <td>1.00</td>\n",
       "      <td>1701912.0</td>\n",
       "    </tr>\n",
       "    <tr>\n",
       "      <th>DebtBillingRatio</th>\n",
       "      <td>100476.0</td>\n",
       "      <td>18.632894</td>\n",
       "      <td>6.274720e+03</td>\n",
       "      <td>-436506.0</td>\n",
       "      <td>0.0</td>\n",
       "      <td>0.0</td>\n",
       "      <td>1.28</td>\n",
       "      <td>1836304.0</td>\n",
       "    </tr>\n",
       "    <tr>\n",
       "      <th>TotalElectricityBill</th>\n",
       "      <td>100476.0</td>\n",
       "      <td>4338.707224</td>\n",
       "      <td>1.050313e+05</td>\n",
       "      <td>-220289.0</td>\n",
       "      <td>0.0</td>\n",
       "      <td>0.0</td>\n",
       "      <td>88.00</td>\n",
       "      <td>22711689.0</td>\n",
       "    </tr>\n",
       "    <tr>\n",
       "      <th>HasID</th>\n",
       "      <td>100476.0</td>\n",
       "      <td>0.427634</td>\n",
       "      <td>4.947380e-01</td>\n",
       "      <td>0.0</td>\n",
       "      <td>0.0</td>\n",
       "      <td>0.0</td>\n",
       "      <td>1.00</td>\n",
       "      <td>1.0</td>\n",
       "    </tr>\n",
       "    <tr>\n",
       "      <th>Label</th>\n",
       "      <td>100476.0</td>\n",
       "      <td>0.461424</td>\n",
       "      <td>4.985121e-01</td>\n",
       "      <td>0.0</td>\n",
       "      <td>0.0</td>\n",
       "      <td>0.0</td>\n",
       "      <td>1.00</td>\n",
       "      <td>1.0</td>\n",
       "    </tr>\n",
       "  </tbody>\n",
       "</table>\n",
       "</div>"
      ],
      "text/plain": [
       "                         count           mean           std        min  \\\n",
       "CategoryID            100476.0       2.245511  2.730572e+00        1.0   \n",
       "Value                 100476.0  707020.754379  3.047463e+06        0.0   \n",
       "PropertySize          100476.0  746822.707124  5.651558e+06        0.0   \n",
       "BillingAmt            100476.0   10899.514083  1.262341e+05 -4232630.0   \n",
       "AverageBillingAmt     100476.0     575.486484  6.430310e+03   -79384.0   \n",
       "CollectedAmt          100476.0    9763.645487  1.201449e+05  -219260.0   \n",
       "AverageCollectedAmt   100476.0    2044.687786  3.682487e+04  -219260.0   \n",
       "DebtAmt               100476.0    9642.500070  5.003013e+04        0.0   \n",
       "WriteOffAmt           100476.0     602.765327  1.440915e+04        0.0   \n",
       "CollectionRatio       100476.0      19.536208  5.556991e+03  -115000.0   \n",
       "DebtBillingRatio      100476.0      18.632894  6.274720e+03  -436506.0   \n",
       "TotalElectricityBill  100476.0    4338.707224  1.050313e+05  -220289.0   \n",
       "HasID                 100476.0       0.427634  4.947380e-01        0.0   \n",
       "Label                 100476.0       0.461424  4.985121e-01        0.0   \n",
       "\n",
       "                          25%      50%        75%          max  \n",
       "CategoryID                1.0      1.0       2.00         13.0  \n",
       "Value                 35000.0  93000.0  750000.00  421860000.0  \n",
       "PropertySize            276.0    511.0    1162.00  270515963.0  \n",
       "BillingAmt              461.0   3141.0    8715.00   26133617.0  \n",
       "AverageBillingAmt        23.0    107.0     281.00     805044.0  \n",
       "CollectedAmt              0.0    360.0    7402.25   24371134.0  \n",
       "AverageCollectedAmt       0.0    100.0     768.00    6828297.0  \n",
       "DebtAmt                   0.0      0.0    2298.00    6322610.0  \n",
       "WriteOffAmt               0.0      0.0       0.00    4306605.0  \n",
       "CollectionRatio           0.0      0.5       1.00    1701912.0  \n",
       "DebtBillingRatio          0.0      0.0       1.28    1836304.0  \n",
       "TotalElectricityBill      0.0      0.0      88.00   22711689.0  \n",
       "HasID                     0.0      0.0       1.00          1.0  \n",
       "Label                     0.0      0.0       1.00          1.0  "
      ]
     },
     "execution_count": 72,
     "metadata": {},
     "output_type": "execute_result"
    }
   ],
   "source": [
    "data.describe().T"
   ]
  },
  {
   "cell_type": "code",
   "execution_count": 73,
   "metadata": {},
   "outputs": [
    {
     "name": "stdout",
     "output_type": "stream",
     "text": [
      "<class 'pandas.core.frame.DataFrame'>\n",
      "RangeIndex: 100476 entries, 0 to 100475\n",
      "Data columns (total 16 columns):\n",
      " #   Column                Non-Null Count   Dtype  \n",
      "---  ------                --------------   -----  \n",
      " 0   AccID                 100476 non-null  object \n",
      " 1   CategoryID            100476 non-null  int64  \n",
      " 2   Category              100476 non-null  object \n",
      " 3   Value                 100476 non-null  int64  \n",
      " 4   PropertySize          100476 non-null  int64  \n",
      " 5   BillingAmt            100476 non-null  int64  \n",
      " 6   AverageBillingAmt     100476 non-null  int64  \n",
      " 7   CollectedAmt          100476 non-null  int64  \n",
      " 8   AverageCollectedAmt   100476 non-null  int64  \n",
      " 9   DebtAmt               100476 non-null  int64  \n",
      " 10  WriteOffAmt           100476 non-null  int64  \n",
      " 11  CollectionRatio       100476 non-null  float64\n",
      " 12  DebtBillingRatio      100476 non-null  float64\n",
      " 13  TotalElectricityBill  100476 non-null  int64  \n",
      " 14  HasID                 100476 non-null  int64  \n",
      " 15  Label                 100476 non-null  int64  \n",
      "dtypes: float64(2), int64(12), object(2)\n",
      "memory usage: 12.3+ MB\n"
     ]
    }
   ],
   "source": [
    "data.info()"
   ]
  },
  {
   "cell_type": "code",
   "execution_count": 74,
   "metadata": {},
   "outputs": [
    {
     "data": {
      "text/plain": [
       "AccID                   100476\n",
       "CategoryID                  12\n",
       "Category                    12\n",
       "Value                    10427\n",
       "PropertySize             14208\n",
       "BillingAmt               28464\n",
       "AverageBillingAmt         5610\n",
       "CollectedAmt             23605\n",
       "AverageCollectedAmt       9044\n",
       "DebtAmt                  20453\n",
       "WriteOffAmt               5099\n",
       "CollectionRatio           1682\n",
       "DebtBillingRatio          6485\n",
       "TotalElectricityBill     11211\n",
       "HasID                        2\n",
       "Label                        2\n",
       "dtype: int64"
      ]
     },
     "execution_count": 74,
     "metadata": {},
     "output_type": "execute_result"
    }
   ],
   "source": [
    "data.nunique()"
   ]
  },
  {
   "cell_type": "code",
   "execution_count": 111,
   "metadata": {},
   "outputs": [],
   "source": [
    "data['CategoryID'] = data['CategoryID'].astype('category')\n",
    "data['Label'] = data['Label'].astype('category')\n"
   ]
  },
  {
   "cell_type": "code",
   "execution_count": 75,
   "metadata": {},
   "outputs": [],
   "source": [
    "data_predict['CategoryID'] = data_predict['CategoryID'].astype('category')\n"
   ]
  },
  {
   "cell_type": "code",
   "execution_count": 76,
   "metadata": {},
   "outputs": [
    {
     "name": "stdout",
     "output_type": "stream",
     "text": [
      "<class 'pandas.core.frame.DataFrame'>\n",
      "RangeIndex: 100476 entries, 0 to 100475\n",
      "Data columns (total 16 columns):\n",
      " #   Column                Non-Null Count   Dtype  \n",
      "---  ------                --------------   -----  \n",
      " 0   AccID                 100476 non-null  object \n",
      " 1   CategoryID            100476 non-null  int64  \n",
      " 2   Category              100476 non-null  object \n",
      " 3   Value                 100476 non-null  int64  \n",
      " 4   PropertySize          100476 non-null  int64  \n",
      " 5   BillingAmt            100476 non-null  int64  \n",
      " 6   AverageBillingAmt     100476 non-null  int64  \n",
      " 7   CollectedAmt          100476 non-null  int64  \n",
      " 8   AverageCollectedAmt   100476 non-null  int64  \n",
      " 9   DebtAmt               100476 non-null  int64  \n",
      " 10  WriteOffAmt           100476 non-null  int64  \n",
      " 11  CollectionRatio       100476 non-null  float64\n",
      " 12  DebtBillingRatio      100476 non-null  float64\n",
      " 13  TotalElectricityBill  100476 non-null  int64  \n",
      " 14  HasID                 100476 non-null  int64  \n",
      " 15  Label                 100476 non-null  int64  \n",
      "dtypes: float64(2), int64(12), object(2)\n",
      "memory usage: 12.3+ MB\n"
     ]
    }
   ],
   "source": [
    "data.info()"
   ]
  },
  {
   "cell_type": "code",
   "execution_count": 77,
   "metadata": {},
   "outputs": [
    {
     "data": {
      "text/html": [
       "<div>\n",
       "<style scoped>\n",
       "    .dataframe tbody tr th:only-of-type {\n",
       "        vertical-align: middle;\n",
       "    }\n",
       "\n",
       "    .dataframe tbody tr th {\n",
       "        vertical-align: top;\n",
       "    }\n",
       "\n",
       "    .dataframe thead th {\n",
       "        text-align: right;\n",
       "    }\n",
       "</style>\n",
       "<table border=\"1\" class=\"dataframe\">\n",
       "  <thead>\n",
       "    <tr style=\"text-align: right;\">\n",
       "      <th></th>\n",
       "      <th>count</th>\n",
       "      <th>mean</th>\n",
       "      <th>std</th>\n",
       "      <th>min</th>\n",
       "      <th>25%</th>\n",
       "      <th>50%</th>\n",
       "      <th>75%</th>\n",
       "      <th>max</th>\n",
       "    </tr>\n",
       "  </thead>\n",
       "  <tbody>\n",
       "    <tr>\n",
       "      <th>CategoryID</th>\n",
       "      <td>100476.0</td>\n",
       "      <td>2.245511</td>\n",
       "      <td>2.730572e+00</td>\n",
       "      <td>1.0</td>\n",
       "      <td>1.0</td>\n",
       "      <td>1.0</td>\n",
       "      <td>2.00</td>\n",
       "      <td>13.0</td>\n",
       "    </tr>\n",
       "    <tr>\n",
       "      <th>Value</th>\n",
       "      <td>100476.0</td>\n",
       "      <td>707020.754379</td>\n",
       "      <td>3.047463e+06</td>\n",
       "      <td>0.0</td>\n",
       "      <td>35000.0</td>\n",
       "      <td>93000.0</td>\n",
       "      <td>750000.00</td>\n",
       "      <td>421860000.0</td>\n",
       "    </tr>\n",
       "    <tr>\n",
       "      <th>PropertySize</th>\n",
       "      <td>100476.0</td>\n",
       "      <td>746822.707124</td>\n",
       "      <td>5.651558e+06</td>\n",
       "      <td>0.0</td>\n",
       "      <td>276.0</td>\n",
       "      <td>511.0</td>\n",
       "      <td>1162.00</td>\n",
       "      <td>270515963.0</td>\n",
       "    </tr>\n",
       "    <tr>\n",
       "      <th>BillingAmt</th>\n",
       "      <td>100476.0</td>\n",
       "      <td>10899.514083</td>\n",
       "      <td>1.262341e+05</td>\n",
       "      <td>-4232630.0</td>\n",
       "      <td>461.0</td>\n",
       "      <td>3141.0</td>\n",
       "      <td>8715.00</td>\n",
       "      <td>26133617.0</td>\n",
       "    </tr>\n",
       "    <tr>\n",
       "      <th>AverageBillingAmt</th>\n",
       "      <td>100476.0</td>\n",
       "      <td>575.486484</td>\n",
       "      <td>6.430310e+03</td>\n",
       "      <td>-79384.0</td>\n",
       "      <td>23.0</td>\n",
       "      <td>107.0</td>\n",
       "      <td>281.00</td>\n",
       "      <td>805044.0</td>\n",
       "    </tr>\n",
       "    <tr>\n",
       "      <th>CollectedAmt</th>\n",
       "      <td>100476.0</td>\n",
       "      <td>9763.645487</td>\n",
       "      <td>1.201449e+05</td>\n",
       "      <td>-219260.0</td>\n",
       "      <td>0.0</td>\n",
       "      <td>360.0</td>\n",
       "      <td>7402.25</td>\n",
       "      <td>24371134.0</td>\n",
       "    </tr>\n",
       "    <tr>\n",
       "      <th>AverageCollectedAmt</th>\n",
       "      <td>100476.0</td>\n",
       "      <td>2044.687786</td>\n",
       "      <td>3.682487e+04</td>\n",
       "      <td>-219260.0</td>\n",
       "      <td>0.0</td>\n",
       "      <td>100.0</td>\n",
       "      <td>768.00</td>\n",
       "      <td>6828297.0</td>\n",
       "    </tr>\n",
       "    <tr>\n",
       "      <th>DebtAmt</th>\n",
       "      <td>100476.0</td>\n",
       "      <td>9642.500070</td>\n",
       "      <td>5.003013e+04</td>\n",
       "      <td>0.0</td>\n",
       "      <td>0.0</td>\n",
       "      <td>0.0</td>\n",
       "      <td>2298.00</td>\n",
       "      <td>6322610.0</td>\n",
       "    </tr>\n",
       "    <tr>\n",
       "      <th>WriteOffAmt</th>\n",
       "      <td>100476.0</td>\n",
       "      <td>602.765327</td>\n",
       "      <td>1.440915e+04</td>\n",
       "      <td>0.0</td>\n",
       "      <td>0.0</td>\n",
       "      <td>0.0</td>\n",
       "      <td>0.00</td>\n",
       "      <td>4306605.0</td>\n",
       "    </tr>\n",
       "    <tr>\n",
       "      <th>CollectionRatio</th>\n",
       "      <td>100476.0</td>\n",
       "      <td>19.536208</td>\n",
       "      <td>5.556991e+03</td>\n",
       "      <td>-115000.0</td>\n",
       "      <td>0.0</td>\n",
       "      <td>0.5</td>\n",
       "      <td>1.00</td>\n",
       "      <td>1701912.0</td>\n",
       "    </tr>\n",
       "    <tr>\n",
       "      <th>DebtBillingRatio</th>\n",
       "      <td>100476.0</td>\n",
       "      <td>18.632894</td>\n",
       "      <td>6.274720e+03</td>\n",
       "      <td>-436506.0</td>\n",
       "      <td>0.0</td>\n",
       "      <td>0.0</td>\n",
       "      <td>1.28</td>\n",
       "      <td>1836304.0</td>\n",
       "    </tr>\n",
       "    <tr>\n",
       "      <th>TotalElectricityBill</th>\n",
       "      <td>100476.0</td>\n",
       "      <td>4338.707224</td>\n",
       "      <td>1.050313e+05</td>\n",
       "      <td>-220289.0</td>\n",
       "      <td>0.0</td>\n",
       "      <td>0.0</td>\n",
       "      <td>88.00</td>\n",
       "      <td>22711689.0</td>\n",
       "    </tr>\n",
       "    <tr>\n",
       "      <th>HasID</th>\n",
       "      <td>100476.0</td>\n",
       "      <td>0.427634</td>\n",
       "      <td>4.947380e-01</td>\n",
       "      <td>0.0</td>\n",
       "      <td>0.0</td>\n",
       "      <td>0.0</td>\n",
       "      <td>1.00</td>\n",
       "      <td>1.0</td>\n",
       "    </tr>\n",
       "    <tr>\n",
       "      <th>Label</th>\n",
       "      <td>100476.0</td>\n",
       "      <td>0.461424</td>\n",
       "      <td>4.985121e-01</td>\n",
       "      <td>0.0</td>\n",
       "      <td>0.0</td>\n",
       "      <td>0.0</td>\n",
       "      <td>1.00</td>\n",
       "      <td>1.0</td>\n",
       "    </tr>\n",
       "  </tbody>\n",
       "</table>\n",
       "</div>"
      ],
      "text/plain": [
       "                         count           mean           std        min  \\\n",
       "CategoryID            100476.0       2.245511  2.730572e+00        1.0   \n",
       "Value                 100476.0  707020.754379  3.047463e+06        0.0   \n",
       "PropertySize          100476.0  746822.707124  5.651558e+06        0.0   \n",
       "BillingAmt            100476.0   10899.514083  1.262341e+05 -4232630.0   \n",
       "AverageBillingAmt     100476.0     575.486484  6.430310e+03   -79384.0   \n",
       "CollectedAmt          100476.0    9763.645487  1.201449e+05  -219260.0   \n",
       "AverageCollectedAmt   100476.0    2044.687786  3.682487e+04  -219260.0   \n",
       "DebtAmt               100476.0    9642.500070  5.003013e+04        0.0   \n",
       "WriteOffAmt           100476.0     602.765327  1.440915e+04        0.0   \n",
       "CollectionRatio       100476.0      19.536208  5.556991e+03  -115000.0   \n",
       "DebtBillingRatio      100476.0      18.632894  6.274720e+03  -436506.0   \n",
       "TotalElectricityBill  100476.0    4338.707224  1.050313e+05  -220289.0   \n",
       "HasID                 100476.0       0.427634  4.947380e-01        0.0   \n",
       "Label                 100476.0       0.461424  4.985121e-01        0.0   \n",
       "\n",
       "                          25%      50%        75%          max  \n",
       "CategoryID                1.0      1.0       2.00         13.0  \n",
       "Value                 35000.0  93000.0  750000.00  421860000.0  \n",
       "PropertySize            276.0    511.0    1162.00  270515963.0  \n",
       "BillingAmt              461.0   3141.0    8715.00   26133617.0  \n",
       "AverageBillingAmt        23.0    107.0     281.00     805044.0  \n",
       "CollectedAmt              0.0    360.0    7402.25   24371134.0  \n",
       "AverageCollectedAmt       0.0    100.0     768.00    6828297.0  \n",
       "DebtAmt                   0.0      0.0    2298.00    6322610.0  \n",
       "WriteOffAmt               0.0      0.0       0.00    4306605.0  \n",
       "CollectionRatio           0.0      0.5       1.00    1701912.0  \n",
       "DebtBillingRatio          0.0      0.0       1.28    1836304.0  \n",
       "TotalElectricityBill      0.0      0.0      88.00   22711689.0  \n",
       "HasID                     0.0      0.0       1.00          1.0  \n",
       "Label                     0.0      0.0       1.00          1.0  "
      ]
     },
     "execution_count": 77,
     "metadata": {},
     "output_type": "execute_result"
    }
   ],
   "source": [
    "data.describe().T"
   ]
  },
  {
   "cell_type": "code",
   "execution_count": 78,
   "metadata": {},
   "outputs": [],
   "source": [
    "#unqiue values of all the categories\n",
    "cols_cat= data.select_dtypes(['category'])\n",
    "for i in cols_cat.columns:\n",
    "    print('Unique values in',i, 'are :')\n",
    "    print(cols_cat[i].value_counts())\n",
    "    print('*'*50)"
   ]
  },
  {
   "cell_type": "code",
   "execution_count": 79,
   "metadata": {},
   "outputs": [],
   "source": [
    "#Develop a function that takes the numerical column as the input and returns the boxplots and histograms for the variable.\n",
    "def histogram_boxplot(feature, figsize=(15, 10), bins=None):\n",
    "    \"\"\"Boxplot and histogram combined\n",
    "    feature: 1-d feature array\n",
    "    figsize: size of fig (default (9,8))\n",
    "    bins: number of bins (default None / auto)\n",
    "    \"\"\"\n",
    "    f2, (ax_box2, ax_hist2) = plt.subplots(\n",
    "        nrows=2,  # Number of rows of the subplot grid= 2\n",
    "        sharex=True,  # x-axis will be shared among all subplots\n",
    "        gridspec_kw={\"height_ratios\": (0.25, 0.75)},\n",
    "        figsize=figsize,\n",
    "    )  # creating the 2 subplots\n",
    "    sns.boxplot(\n",
    "        feature, ax=ax_box2, showmeans=True, color=\"violet\"\n",
    "    )  # boxplot will be created and a star will indicate the mean value of the column\n",
    "    sns.distplot(\n",
    "        feature, kde=F, ax=ax_hist2, bins=bins, color=\"orange\"\n",
    "    ) if bins else sns.distplot(\n",
    "        feature, kde=False, ax=ax_hist2, color=\"tab:cyan\"\n",
    "    )  # For histogram\n",
    "    ax_hist2.axvline(\n",
    "        np.mean(feature), color=\"purple\", linestyle=\"--\"\n",
    "    )  # Add mean to the histogram\n",
    "    ax_hist2.axvline(\n",
    "        np.median(feature), color=\"black\", linestyle=\"-\"\n",
    "    )  # Add median to the histogram"
   ]
  },
  {
   "cell_type": "code",
   "execution_count": 80,
   "metadata": {},
   "outputs": [
    {
     "data": {
      "image/png": "[encoded data removed]",
      "text/plain": [
       "<Figure size 1080x720 with 2 Axes>"
      ]
     },
     "metadata": {
      "needs_background": "light"
     },
     "output_type": "display_data"
    }
   ],
   "source": [
    "histogram_boxplot(data[\"Value\"])"
   ]
  },
  {
   "cell_type": "code",
   "execution_count": 81,
   "metadata": {},
   "outputs": [
    {
     "data": {
      "text/plain": [
       "<AxesSubplot:xlabel='Value', ylabel='Count'>"
      ]
     },
     "execution_count": 81,
     "metadata": {},
     "output_type": "execute_result"
    },
    {
     "data": {
      "image/png": "[encoded data removed]",
      "text/plain": [
       "<Figure size 432x288 with 1 Axes>"
      ]
     },
     "metadata": {
      "needs_background": "light"
     },
     "output_type": "display_data"
    }
   ],
   "source": [
    "sns.histplot(data_predict[\"Value\"], kde=True)"
   ]
  },
  {
   "cell_type": "code",
   "execution_count": 124,
   "metadata": {},
   "outputs": [],
   "source": [
    "data.loc[data['Value'] == 0,'Value'] = np.nan"
   ]
  },
  {
   "cell_type": "code",
   "execution_count": 125,
   "metadata": {},
   "outputs": [
    {
     "ename": "KeyError",
     "evalue": "'Value'",
     "output_type": "error",
     "traceback": [
      "\u001b[1;31m---------------------------------------------------------------------------\u001b[0m",
      "\u001b[1;31mKeyError\u001b[0m                                  Traceback (most recent call last)",
      "\u001b[1;32m~\\Anaconda3\\lib\\site-packages\\pandas\\core\\indexes\\base.py\u001b[0m in \u001b[0;36mget_loc\u001b[1;34m(self, key, method, tolerance)\u001b[0m\n\u001b[0;32m   2894\u001b[0m             \u001b[1;32mtry\u001b[0m\u001b[1;33m:\u001b[0m\u001b[1;33m\u001b[0m\u001b[1;33m\u001b[0m\u001b[0m\n\u001b[1;32m-> 2895\u001b[1;33m                 \u001b[1;32mreturn\u001b[0m \u001b[0mself\u001b[0m\u001b[1;33m.\u001b[0m\u001b[0m_engine\u001b[0m\u001b[1;33m.\u001b[0m\u001b[0mget_loc\u001b[0m\u001b[1;33m(\u001b[0m\u001b[0mcasted_key\u001b[0m\u001b[1;33m)\u001b[0m\u001b[1;33m\u001b[0m\u001b[1;33m\u001b[0m\u001b[0m\n\u001b[0m\u001b[0;32m   2896\u001b[0m             \u001b[1;32mexcept\u001b[0m \u001b[0mKeyError\u001b[0m \u001b[1;32mas\u001b[0m \u001b[0merr\u001b[0m\u001b[1;33m:\u001b[0m\u001b[1;33m\u001b[0m\u001b[1;33m\u001b[0m\u001b[0m\n",
      "\u001b[1;32mpandas\\_libs\\index.pyx\u001b[0m in \u001b[0;36mpandas._libs.index.IndexEngine.get_loc\u001b[1;34m()\u001b[0m\n",
      "\u001b[1;32mpandas\\_libs\\index.pyx\u001b[0m in \u001b[0;36mpandas._libs.index.IndexEngine.get_loc\u001b[1;34m()\u001b[0m\n",
      "\u001b[1;32mpandas\\_libs\\hashtable_class_helper.pxi\u001b[0m in \u001b[0;36mpandas._libs.hashtable.PyObjectHashTable.get_item\u001b[1;34m()\u001b[0m\n",
      "\u001b[1;32mpandas\\_libs\\hashtable_class_helper.pxi\u001b[0m in \u001b[0;36mpandas._libs.hashtable.PyObjectHashTable.get_item\u001b[1;34m()\u001b[0m\n",
      "\u001b[1;31mKeyError\u001b[0m: 'Value'",
      "\nThe above exception was the direct cause of the following exception:\n",
      "\u001b[1;31mKeyError\u001b[0m                                  Traceback (most recent call last)",
      "\u001b[1;32m<ipython-input-125-f3e2500f6a29>\u001b[0m in \u001b[0;36m<module>\u001b[1;34m\u001b[0m\n\u001b[1;32m----> 1\u001b[1;33m \u001b[0mdata_predict\u001b[0m\u001b[1;33m.\u001b[0m\u001b[0mloc\u001b[0m\u001b[1;33m[\u001b[0m\u001b[0mdata_predict\u001b[0m\u001b[1;33m[\u001b[0m\u001b[1;34m'Value'\u001b[0m\u001b[1;33m]\u001b[0m \u001b[1;33m==\u001b[0m \u001b[1;36m0\u001b[0m\u001b[1;33m,\u001b[0m\u001b[1;34m'Value'\u001b[0m\u001b[1;33m]\u001b[0m \u001b[1;33m=\u001b[0m \u001b[0mnp\u001b[0m\u001b[1;33m.\u001b[0m\u001b[0mnan\u001b[0m\u001b[1;33m\u001b[0m\u001b[1;33m\u001b[0m\u001b[0m\n\u001b[0m",
      "\u001b[1;32m~\\Anaconda3\\lib\\site-packages\\pandas\\core\\frame.py\u001b[0m in \u001b[0;36m__getitem__\u001b[1;34m(self, key)\u001b[0m\n\u001b[0;32m   2900\u001b[0m             \u001b[1;32mif\u001b[0m \u001b[0mself\u001b[0m\u001b[1;33m.\u001b[0m\u001b[0mcolumns\u001b[0m\u001b[1;33m.\u001b[0m\u001b[0mnlevels\u001b[0m \u001b[1;33m>\u001b[0m \u001b[1;36m1\u001b[0m\u001b[1;33m:\u001b[0m\u001b[1;33m\u001b[0m\u001b[1;33m\u001b[0m\u001b[0m\n\u001b[0;32m   2901\u001b[0m                 \u001b[1;32mreturn\u001b[0m \u001b[0mself\u001b[0m\u001b[1;33m.\u001b[0m\u001b[0m_getitem_multilevel\u001b[0m\u001b[1;33m(\u001b[0m\u001b[0mkey\u001b[0m\u001b[1;33m)\u001b[0m\u001b[1;33m\u001b[0m\u001b[1;33m\u001b[0m\u001b[0m\n\u001b[1;32m-> 2902\u001b[1;33m             \u001b[0mindexer\u001b[0m \u001b[1;33m=\u001b[0m \u001b[0mself\u001b[0m\u001b[1;33m.\u001b[0m\u001b[0mcolumns\u001b[0m\u001b[1;33m.\u001b[0m\u001b[0mget_loc\u001b[0m\u001b[1;33m(\u001b[0m\u001b[0mkey\u001b[0m\u001b[1;33m)\u001b[0m\u001b[1;33m\u001b[0m\u001b[1;33m\u001b[0m\u001b[0m\n\u001b[0m\u001b[0;32m   2903\u001b[0m             \u001b[1;32mif\u001b[0m \u001b[0mis_integer\u001b[0m\u001b[1;33m(\u001b[0m\u001b[0mindexer\u001b[0m\u001b[1;33m)\u001b[0m\u001b[1;33m:\u001b[0m\u001b[1;33m\u001b[0m\u001b[1;33m\u001b[0m\u001b[0m\n\u001b[0;32m   2904\u001b[0m                 \u001b[0mindexer\u001b[0m \u001b[1;33m=\u001b[0m \u001b[1;33m[\u001b[0m\u001b[0mindexer\u001b[0m\u001b[1;33m]\u001b[0m\u001b[1;33m\u001b[0m\u001b[1;33m\u001b[0m\u001b[0m\n",
      "\u001b[1;32m~\\Anaconda3\\lib\\site-packages\\pandas\\core\\indexes\\base.py\u001b[0m in \u001b[0;36mget_loc\u001b[1;34m(self, key, method, tolerance)\u001b[0m\n\u001b[0;32m   2895\u001b[0m                 \u001b[1;32mreturn\u001b[0m \u001b[0mself\u001b[0m\u001b[1;33m.\u001b[0m\u001b[0m_engine\u001b[0m\u001b[1;33m.\u001b[0m\u001b[0mget_loc\u001b[0m\u001b[1;33m(\u001b[0m\u001b[0mcasted_key\u001b[0m\u001b[1;33m)\u001b[0m\u001b[1;33m\u001b[0m\u001b[1;33m\u001b[0m\u001b[0m\n\u001b[0;32m   2896\u001b[0m             \u001b[1;32mexcept\u001b[0m \u001b[0mKeyError\u001b[0m \u001b[1;32mas\u001b[0m \u001b[0merr\u001b[0m\u001b[1;33m:\u001b[0m\u001b[1;33m\u001b[0m\u001b[1;33m\u001b[0m\u001b[0m\n\u001b[1;32m-> 2897\u001b[1;33m                 \u001b[1;32mraise\u001b[0m \u001b[0mKeyError\u001b[0m\u001b[1;33m(\u001b[0m\u001b[0mkey\u001b[0m\u001b[1;33m)\u001b[0m \u001b[1;32mfrom\u001b[0m \u001b[0merr\u001b[0m\u001b[1;33m\u001b[0m\u001b[1;33m\u001b[0m\u001b[0m\n\u001b[0m\u001b[0;32m   2898\u001b[0m \u001b[1;33m\u001b[0m\u001b[0m\n\u001b[0;32m   2899\u001b[0m         \u001b[1;32mif\u001b[0m \u001b[0mtolerance\u001b[0m \u001b[1;32mis\u001b[0m \u001b[1;32mnot\u001b[0m \u001b[1;32mNone\u001b[0m\u001b[1;33m:\u001b[0m\u001b[1;33m\u001b[0m\u001b[1;33m\u001b[0m\u001b[0m\n",
      "\u001b[1;31mKeyError\u001b[0m: 'Value'"
     ]
    }
   ],
   "source": [
    "data_predict.loc[data_predict['Value'] == 0,'Value'] = np.nan"
   ]
  },
  {
   "cell_type": "code",
   "execution_count": 120,
   "metadata": {},
   "outputs": [
    {
     "data": {
      "text/plain": [
       "0         14.799348\n",
       "1         10.491274\n",
       "2         13.458836\n",
       "3         10.596635\n",
       "4         11.742449\n",
       "            ...    \n",
       "100471    11.884489\n",
       "100472    13.527828\n",
       "100473    12.013701\n",
       "100474    14.551957\n",
       "100475    10.050182\n",
       "Name: Value_log, Length: 100476, dtype: float64"
      ]
     },
     "execution_count": 120,
     "metadata": {},
     "output_type": "execute_result"
    }
   ],
   "source": [
    "data[\"Value_log\"] = np.log(data[\"Value\"])\n",
    "data[\"Value_log\"]"
   ]
  },
  {
   "cell_type": "code",
   "execution_count": 115,
   "metadata": {},
   "outputs": [
    {
     "ename": "KeyError",
     "evalue": "'Value'",
     "output_type": "error",
     "traceback": [
      "\u001b[1;31m---------------------------------------------------------------------------\u001b[0m",
      "\u001b[1;31mKeyError\u001b[0m                                  Traceback (most recent call last)",
      "\u001b[1;32m~\\Anaconda3\\lib\\site-packages\\pandas\\core\\indexes\\base.py\u001b[0m in \u001b[0;36mget_loc\u001b[1;34m(self, key, method, tolerance)\u001b[0m\n\u001b[0;32m   2894\u001b[0m             \u001b[1;32mtry\u001b[0m\u001b[1;33m:\u001b[0m\u001b[1;33m\u001b[0m\u001b[1;33m\u001b[0m\u001b[0m\n\u001b[1;32m-> 2895\u001b[1;33m                 \u001b[1;32mreturn\u001b[0m \u001b[0mself\u001b[0m\u001b[1;33m.\u001b[0m\u001b[0m_engine\u001b[0m\u001b[1;33m.\u001b[0m\u001b[0mget_loc\u001b[0m\u001b[1;33m(\u001b[0m\u001b[0mcasted_key\u001b[0m\u001b[1;33m)\u001b[0m\u001b[1;33m\u001b[0m\u001b[1;33m\u001b[0m\u001b[0m\n\u001b[0m\u001b[0;32m   2896\u001b[0m             \u001b[1;32mexcept\u001b[0m \u001b[0mKeyError\u001b[0m \u001b[1;32mas\u001b[0m \u001b[0merr\u001b[0m\u001b[1;33m:\u001b[0m\u001b[1;33m\u001b[0m\u001b[1;33m\u001b[0m\u001b[0m\n",
      "\u001b[1;32mpandas\\_libs\\index.pyx\u001b[0m in \u001b[0;36mpandas._libs.index.IndexEngine.get_loc\u001b[1;34m()\u001b[0m\n",
      "\u001b[1;32mpandas\\_libs\\index.pyx\u001b[0m in \u001b[0;36mpandas._libs.index.IndexEngine.get_loc\u001b[1;34m()\u001b[0m\n",
      "\u001b[1;32mpandas\\_libs\\hashtable_class_helper.pxi\u001b[0m in \u001b[0;36mpandas._libs.hashtable.PyObjectHashTable.get_item\u001b[1;34m()\u001b[0m\n",
      "\u001b[1;32mpandas\\_libs\\hashtable_class_helper.pxi\u001b[0m in \u001b[0;36mpandas._libs.hashtable.PyObjectHashTable.get_item\u001b[1;34m()\u001b[0m\n",
      "\u001b[1;31mKeyError\u001b[0m: 'Value'",
      "\nThe above exception was the direct cause of the following exception:\n",
      "\u001b[1;31mKeyError\u001b[0m                                  Traceback (most recent call last)",
      "\u001b[1;32m<ipython-input-115-60ec9b0f01de>\u001b[0m in \u001b[0;36m<module>\u001b[1;34m\u001b[0m\n\u001b[1;32m----> 1\u001b[1;33m \u001b[0mdata_predict\u001b[0m\u001b[1;33m[\u001b[0m\u001b[1;34m\"Value_log\"\u001b[0m\u001b[1;33m]\u001b[0m \u001b[1;33m=\u001b[0m \u001b[0mnp\u001b[0m\u001b[1;33m.\u001b[0m\u001b[0mlog\u001b[0m\u001b[1;33m(\u001b[0m\u001b[0mdata_predict\u001b[0m\u001b[1;33m[\u001b[0m\u001b[1;34m\"Value\"\u001b[0m\u001b[1;33m]\u001b[0m\u001b[1;33m)\u001b[0m\u001b[1;33m\u001b[0m\u001b[1;33m\u001b[0m\u001b[0m\n\u001b[0m\u001b[0;32m      2\u001b[0m \u001b[0mdata_predict\u001b[0m\u001b[1;33m[\u001b[0m\u001b[1;34m\"Value_log\"\u001b[0m\u001b[1;33m]\u001b[0m\u001b[1;33m\u001b[0m\u001b[1;33m\u001b[0m\u001b[0m\n",
      "\u001b[1;32m~\\Anaconda3\\lib\\site-packages\\pandas\\core\\frame.py\u001b[0m in \u001b[0;36m__getitem__\u001b[1;34m(self, key)\u001b[0m\n\u001b[0;32m   2900\u001b[0m             \u001b[1;32mif\u001b[0m \u001b[0mself\u001b[0m\u001b[1;33m.\u001b[0m\u001b[0mcolumns\u001b[0m\u001b[1;33m.\u001b[0m\u001b[0mnlevels\u001b[0m \u001b[1;33m>\u001b[0m \u001b[1;36m1\u001b[0m\u001b[1;33m:\u001b[0m\u001b[1;33m\u001b[0m\u001b[1;33m\u001b[0m\u001b[0m\n\u001b[0;32m   2901\u001b[0m                 \u001b[1;32mreturn\u001b[0m \u001b[0mself\u001b[0m\u001b[1;33m.\u001b[0m\u001b[0m_getitem_multilevel\u001b[0m\u001b[1;33m(\u001b[0m\u001b[0mkey\u001b[0m\u001b[1;33m)\u001b[0m\u001b[1;33m\u001b[0m\u001b[1;33m\u001b[0m\u001b[0m\n\u001b[1;32m-> 2902\u001b[1;33m             \u001b[0mindexer\u001b[0m \u001b[1;33m=\u001b[0m \u001b[0mself\u001b[0m\u001b[1;33m.\u001b[0m\u001b[0mcolumns\u001b[0m\u001b[1;33m.\u001b[0m\u001b[0mget_loc\u001b[0m\u001b[1;33m(\u001b[0m\u001b[0mkey\u001b[0m\u001b[1;33m)\u001b[0m\u001b[1;33m\u001b[0m\u001b[1;33m\u001b[0m\u001b[0m\n\u001b[0m\u001b[0;32m   2903\u001b[0m             \u001b[1;32mif\u001b[0m \u001b[0mis_integer\u001b[0m\u001b[1;33m(\u001b[0m\u001b[0mindexer\u001b[0m\u001b[1;33m)\u001b[0m\u001b[1;33m:\u001b[0m\u001b[1;33m\u001b[0m\u001b[1;33m\u001b[0m\u001b[0m\n\u001b[0;32m   2904\u001b[0m                 \u001b[0mindexer\u001b[0m \u001b[1;33m=\u001b[0m \u001b[1;33m[\u001b[0m\u001b[0mindexer\u001b[0m\u001b[1;33m]\u001b[0m\u001b[1;33m\u001b[0m\u001b[1;33m\u001b[0m\u001b[0m\n",
      "\u001b[1;32m~\\Anaconda3\\lib\\site-packages\\pandas\\core\\indexes\\base.py\u001b[0m in \u001b[0;36mget_loc\u001b[1;34m(self, key, method, tolerance)\u001b[0m\n\u001b[0;32m   2895\u001b[0m                 \u001b[1;32mreturn\u001b[0m \u001b[0mself\u001b[0m\u001b[1;33m.\u001b[0m\u001b[0m_engine\u001b[0m\u001b[1;33m.\u001b[0m\u001b[0mget_loc\u001b[0m\u001b[1;33m(\u001b[0m\u001b[0mcasted_key\u001b[0m\u001b[1;33m)\u001b[0m\u001b[1;33m\u001b[0m\u001b[1;33m\u001b[0m\u001b[0m\n\u001b[0;32m   2896\u001b[0m             \u001b[1;32mexcept\u001b[0m \u001b[0mKeyError\u001b[0m \u001b[1;32mas\u001b[0m \u001b[0merr\u001b[0m\u001b[1;33m:\u001b[0m\u001b[1;33m\u001b[0m\u001b[1;33m\u001b[0m\u001b[0m\n\u001b[1;32m-> 2897\u001b[1;33m                 \u001b[1;32mraise\u001b[0m \u001b[0mKeyError\u001b[0m\u001b[1;33m(\u001b[0m\u001b[0mkey\u001b[0m\u001b[1;33m)\u001b[0m \u001b[1;32mfrom\u001b[0m \u001b[0merr\u001b[0m\u001b[1;33m\u001b[0m\u001b[1;33m\u001b[0m\u001b[0m\n\u001b[0m\u001b[0;32m   2898\u001b[0m \u001b[1;33m\u001b[0m\u001b[0m\n\u001b[0;32m   2899\u001b[0m         \u001b[1;32mif\u001b[0m \u001b[0mtolerance\u001b[0m \u001b[1;32mis\u001b[0m \u001b[1;32mnot\u001b[0m \u001b[1;32mNone\u001b[0m\u001b[1;33m:\u001b[0m\u001b[1;33m\u001b[0m\u001b[1;33m\u001b[0m\u001b[0m\n",
      "\u001b[1;31mKeyError\u001b[0m: 'Value'"
     ]
    }
   ],
   "source": [
    "data_predict[\"Value_log\"] = np.log(data_predict[\"Value\"])\n",
    "data_predict[\"Value_log\"]"
   ]
  },
  {
   "cell_type": "code",
   "execution_count": 123,
   "metadata": {},
   "outputs": [
    {
     "data": {
      "text/plain": [
       "<AxesSubplot:xlabel='Value_log', ylabel='Count'>"
      ]
     },
     "execution_count": 123,
     "metadata": {},
     "output_type": "execute_result"
    },
    {
     "data": {
      "image/png": "[encoded data removed]",
      "text/plain": [
       "<Figure size 432x288 with 1 Axes>"
      ]
     },
     "metadata": {
      "needs_background": "light"
     },
     "output_type": "display_data"
    }
   ],
   "source": [
    "sns.histplot(data[\"Value_log\"], kde=True)"
   ]
  },
  {
   "cell_type": "code",
   "execution_count": 121,
   "metadata": {},
   "outputs": [
    {
     "data": {
      "text/plain": [
       "<AxesSubplot:xlabel='Value_log', ylabel='Count'>"
      ]
     },
     "execution_count": 121,
     "metadata": {},
     "output_type": "execute_result"
    },
    {
     "data": {
      "image/png": "[encoded data removed]",
      "text/plain": [
       "<Figure size 432x288 with 1 Axes>"
      ]
     },
     "metadata": {
      "needs_background": "light"
     },
     "output_type": "display_data"
    }
   ],
   "source": [
    "sns.histplot(data_predict[\"Value_log\"], kde=True)"
   ]
  },
  {
   "cell_type": "code",
   "execution_count": 87,
   "metadata": {},
   "outputs": [
    {
     "data": {
      "text/plain": [
       "<AxesSubplot:ylabel='Count'>"
      ]
     },
     "execution_count": 87,
     "metadata": {},
     "output_type": "execute_result"
    },
    {
     "data": {
      "image/png": "[encoded data removed]",
      "text/plain": [
       "<Figure size 432x288 with 1 Axes>"
      ]
     },
     "metadata": {
      "needs_background": "light"
     },
     "output_type": "display_data"
    }
   ],
   "source": [
    "sns.histplot(data[\"PropertySize\"].values, kde=True, bins =30)"
   ]
  },
  {
   "cell_type": "code",
   "execution_count": 88,
   "metadata": {},
   "outputs": [],
   "source": [
    "data_predict.loc[data_predict['PropertySize'] == 0,'PropertySize'] = np.nan"
   ]
  },
  {
   "cell_type": "code",
   "execution_count": 89,
   "metadata": {},
   "outputs": [
    {
     "data": {
      "text/plain": [
       "0         5.673323\n",
       "1         6.677083\n",
       "2        14.982279\n",
       "3         6.349139\n",
       "4         5.590987\n",
       "           ...    \n",
       "33488     5.476464\n",
       "33489     5.774552\n",
       "33490     5.755742\n",
       "33491     5.932245\n",
       "33492     6.878326\n",
       "Name: PropertySize_log, Length: 33493, dtype: float64"
      ]
     },
     "execution_count": 89,
     "metadata": {},
     "output_type": "execute_result"
    }
   ],
   "source": [
    "data_predict[\"PropertySize_log\"] = np.log(data_predict[\"PropertySize\"])\n",
    "data_predict[\"PropertySize_log\"]"
   ]
  },
  {
   "cell_type": "code",
   "execution_count": 90,
   "metadata": {},
   "outputs": [
    {
     "data": {
      "text/plain": [
       "<AxesSubplot:xlabel='PropertySize_log', ylabel='Count'>"
      ]
     },
     "execution_count": 90,
     "metadata": {},
     "output_type": "execute_result"
    },
    {
     "data": {
      "image/png": "[encoded data removed]",
      "text/plain": [
       "<Figure size 432x288 with 1 Axes>"
      ]
     },
     "metadata": {
      "needs_background": "light"
     },
     "output_type": "display_data"
    }
   ],
   "source": [
    "sns.histplot(data_predict[\"PropertySize_log\"], kde=True)"
   ]
  },
  {
   "cell_type": "code",
   "execution_count": 91,
   "metadata": {},
   "outputs": [
    {
     "data": {
      "text/html": [
       "<div>\n",
       "<style scoped>\n",
       "    .dataframe tbody tr th:only-of-type {\n",
       "        vertical-align: middle;\n",
       "    }\n",
       "\n",
       "    .dataframe tbody tr th {\n",
       "        vertical-align: top;\n",
       "    }\n",
       "\n",
       "    .dataframe thead th {\n",
       "        text-align: right;\n",
       "    }\n",
       "</style>\n",
       "<table border=\"1\" class=\"dataframe\">\n",
       "  <thead>\n",
       "    <tr style=\"text-align: right;\">\n",
       "      <th></th>\n",
       "      <th>count</th>\n",
       "      <th>mean</th>\n",
       "      <th>std</th>\n",
       "      <th>min</th>\n",
       "      <th>25%</th>\n",
       "      <th>50%</th>\n",
       "      <th>75%</th>\n",
       "      <th>max</th>\n",
       "    </tr>\n",
       "  </thead>\n",
       "  <tbody>\n",
       "    <tr>\n",
       "      <th>CategoryID</th>\n",
       "      <td>100476.0</td>\n",
       "      <td>2.245511</td>\n",
       "      <td>2.730572e+00</td>\n",
       "      <td>1.0</td>\n",
       "      <td>1.000000</td>\n",
       "      <td>1.000000</td>\n",
       "      <td>2.000000</td>\n",
       "      <td>1.300000e+01</td>\n",
       "    </tr>\n",
       "    <tr>\n",
       "      <th>Value</th>\n",
       "      <td>100476.0</td>\n",
       "      <td>707020.754379</td>\n",
       "      <td>3.047463e+06</td>\n",
       "      <td>0.0</td>\n",
       "      <td>35000.000000</td>\n",
       "      <td>93000.000000</td>\n",
       "      <td>750000.000000</td>\n",
       "      <td>4.218600e+08</td>\n",
       "    </tr>\n",
       "    <tr>\n",
       "      <th>PropertySize</th>\n",
       "      <td>100476.0</td>\n",
       "      <td>746822.707124</td>\n",
       "      <td>5.651558e+06</td>\n",
       "      <td>0.0</td>\n",
       "      <td>276.000000</td>\n",
       "      <td>511.000000</td>\n",
       "      <td>1162.000000</td>\n",
       "      <td>2.705160e+08</td>\n",
       "    </tr>\n",
       "    <tr>\n",
       "      <th>BillingAmt</th>\n",
       "      <td>100476.0</td>\n",
       "      <td>10899.514083</td>\n",
       "      <td>1.262341e+05</td>\n",
       "      <td>-4232630.0</td>\n",
       "      <td>461.000000</td>\n",
       "      <td>3141.000000</td>\n",
       "      <td>8715.000000</td>\n",
       "      <td>2.613362e+07</td>\n",
       "    </tr>\n",
       "    <tr>\n",
       "      <th>AverageBillingAmt</th>\n",
       "      <td>100476.0</td>\n",
       "      <td>575.486484</td>\n",
       "      <td>6.430310e+03</td>\n",
       "      <td>-79384.0</td>\n",
       "      <td>23.000000</td>\n",
       "      <td>107.000000</td>\n",
       "      <td>281.000000</td>\n",
       "      <td>8.050440e+05</td>\n",
       "    </tr>\n",
       "    <tr>\n",
       "      <th>CollectedAmt</th>\n",
       "      <td>100476.0</td>\n",
       "      <td>9763.645487</td>\n",
       "      <td>1.201449e+05</td>\n",
       "      <td>-219260.0</td>\n",
       "      <td>0.000000</td>\n",
       "      <td>360.000000</td>\n",
       "      <td>7402.250000</td>\n",
       "      <td>2.437113e+07</td>\n",
       "    </tr>\n",
       "    <tr>\n",
       "      <th>AverageCollectedAmt</th>\n",
       "      <td>100476.0</td>\n",
       "      <td>2044.687786</td>\n",
       "      <td>3.682487e+04</td>\n",
       "      <td>-219260.0</td>\n",
       "      <td>0.000000</td>\n",
       "      <td>100.000000</td>\n",
       "      <td>768.000000</td>\n",
       "      <td>6.828297e+06</td>\n",
       "    </tr>\n",
       "    <tr>\n",
       "      <th>DebtAmt</th>\n",
       "      <td>100476.0</td>\n",
       "      <td>9642.500070</td>\n",
       "      <td>5.003013e+04</td>\n",
       "      <td>0.0</td>\n",
       "      <td>0.000000</td>\n",
       "      <td>0.000000</td>\n",
       "      <td>2298.000000</td>\n",
       "      <td>6.322610e+06</td>\n",
       "    </tr>\n",
       "    <tr>\n",
       "      <th>WriteOffAmt</th>\n",
       "      <td>100476.0</td>\n",
       "      <td>602.765327</td>\n",
       "      <td>1.440915e+04</td>\n",
       "      <td>0.0</td>\n",
       "      <td>0.000000</td>\n",
       "      <td>0.000000</td>\n",
       "      <td>0.000000</td>\n",
       "      <td>4.306605e+06</td>\n",
       "    </tr>\n",
       "    <tr>\n",
       "      <th>CollectionRatio</th>\n",
       "      <td>100476.0</td>\n",
       "      <td>19.536208</td>\n",
       "      <td>5.556991e+03</td>\n",
       "      <td>-115000.0</td>\n",
       "      <td>0.000000</td>\n",
       "      <td>0.500000</td>\n",
       "      <td>1.000000</td>\n",
       "      <td>1.701912e+06</td>\n",
       "    </tr>\n",
       "    <tr>\n",
       "      <th>DebtBillingRatio</th>\n",
       "      <td>100476.0</td>\n",
       "      <td>18.632894</td>\n",
       "      <td>6.274720e+03</td>\n",
       "      <td>-436506.0</td>\n",
       "      <td>0.000000</td>\n",
       "      <td>0.000000</td>\n",
       "      <td>1.280000</td>\n",
       "      <td>1.836304e+06</td>\n",
       "    </tr>\n",
       "    <tr>\n",
       "      <th>TotalElectricityBill</th>\n",
       "      <td>100476.0</td>\n",
       "      <td>4338.707224</td>\n",
       "      <td>1.050313e+05</td>\n",
       "      <td>-220289.0</td>\n",
       "      <td>0.000000</td>\n",
       "      <td>0.000000</td>\n",
       "      <td>88.000000</td>\n",
       "      <td>2.271169e+07</td>\n",
       "    </tr>\n",
       "    <tr>\n",
       "      <th>HasID</th>\n",
       "      <td>100476.0</td>\n",
       "      <td>0.427634</td>\n",
       "      <td>4.947380e-01</td>\n",
       "      <td>0.0</td>\n",
       "      <td>0.000000</td>\n",
       "      <td>0.000000</td>\n",
       "      <td>1.000000</td>\n",
       "      <td>1.000000e+00</td>\n",
       "    </tr>\n",
       "    <tr>\n",
       "      <th>Label</th>\n",
       "      <td>100476.0</td>\n",
       "      <td>0.461424</td>\n",
       "      <td>4.985121e-01</td>\n",
       "      <td>0.0</td>\n",
       "      <td>0.000000</td>\n",
       "      <td>0.000000</td>\n",
       "      <td>1.000000</td>\n",
       "      <td>1.000000e+00</td>\n",
       "    </tr>\n",
       "    <tr>\n",
       "      <th>Value_log</th>\n",
       "      <td>30460.0</td>\n",
       "      <td>12.054401</td>\n",
       "      <td>1.839363e+00</td>\n",
       "      <td>0.0</td>\n",
       "      <td>10.637896</td>\n",
       "      <td>11.849398</td>\n",
       "      <td>13.629181</td>\n",
       "      <td>1.854290e+01</td>\n",
       "    </tr>\n",
       "  </tbody>\n",
       "</table>\n",
       "</div>"
      ],
      "text/plain": [
       "                         count           mean           std        min  \\\n",
       "CategoryID            100476.0       2.245511  2.730572e+00        1.0   \n",
       "Value                 100476.0  707020.754379  3.047463e+06        0.0   \n",
       "PropertySize          100476.0  746822.707124  5.651558e+06        0.0   \n",
       "BillingAmt            100476.0   10899.514083  1.262341e+05 -4232630.0   \n",
       "AverageBillingAmt     100476.0     575.486484  6.430310e+03   -79384.0   \n",
       "CollectedAmt          100476.0    9763.645487  1.201449e+05  -219260.0   \n",
       "AverageCollectedAmt   100476.0    2044.687786  3.682487e+04  -219260.0   \n",
       "DebtAmt               100476.0    9642.500070  5.003013e+04        0.0   \n",
       "WriteOffAmt           100476.0     602.765327  1.440915e+04        0.0   \n",
       "CollectionRatio       100476.0      19.536208  5.556991e+03  -115000.0   \n",
       "DebtBillingRatio      100476.0      18.632894  6.274720e+03  -436506.0   \n",
       "TotalElectricityBill  100476.0    4338.707224  1.050313e+05  -220289.0   \n",
       "HasID                 100476.0       0.427634  4.947380e-01        0.0   \n",
       "Label                 100476.0       0.461424  4.985121e-01        0.0   \n",
       "Value_log              30460.0      12.054401  1.839363e+00        0.0   \n",
       "\n",
       "                               25%           50%            75%           max  \n",
       "CategoryID                1.000000      1.000000       2.000000  1.300000e+01  \n",
       "Value                 35000.000000  93000.000000  750000.000000  4.218600e+08  \n",
       "PropertySize            276.000000    511.000000    1162.000000  2.705160e+08  \n",
       "BillingAmt              461.000000   3141.000000    8715.000000  2.613362e+07  \n",
       "AverageBillingAmt        23.000000    107.000000     281.000000  8.050440e+05  \n",
       "CollectedAmt              0.000000    360.000000    7402.250000  2.437113e+07  \n",
       "AverageCollectedAmt       0.000000    100.000000     768.000000  6.828297e+06  \n",
       "DebtAmt                   0.000000      0.000000    2298.000000  6.322610e+06  \n",
       "WriteOffAmt               0.000000      0.000000       0.000000  4.306605e+06  \n",
       "CollectionRatio           0.000000      0.500000       1.000000  1.701912e+06  \n",
       "DebtBillingRatio          0.000000      0.000000       1.280000  1.836304e+06  \n",
       "TotalElectricityBill      0.000000      0.000000      88.000000  2.271169e+07  \n",
       "HasID                     0.000000      0.000000       1.000000  1.000000e+00  \n",
       "Label                     0.000000      0.000000       1.000000  1.000000e+00  \n",
       "Value_log                10.637896     11.849398      13.629181  1.854290e+01  "
      ]
     },
     "execution_count": 91,
     "metadata": {},
     "output_type": "execute_result"
    }
   ],
   "source": [
    "data.describe().T"
   ]
  },
  {
   "cell_type": "code",
   "execution_count": 92,
   "metadata": {},
   "outputs": [
    {
     "data": {
      "text/plain": [
       "<AxesSubplot:ylabel='Count'>"
      ]
     },
     "execution_count": 92,
     "metadata": {},
     "output_type": "execute_result"
    },
    {
     "data": {
      "image/png": "[encoded data removed]",
      "text/plain": [
       "<Figure size 432x288 with 1 Axes>"
      ]
     },
     "metadata": {
      "needs_background": "light"
     },
     "output_type": "display_data"
    }
   ],
   "source": [
    "sns.histplot(data_predict[\"CollectedAmt\"].values, kde=True, bins =30)"
   ]
  },
  {
   "cell_type": "code",
   "execution_count": 93,
   "metadata": {},
   "outputs": [],
   "source": [
    "data_predict.loc[data_predict['CollectedAmt'] == 0,'CollectedAmt'] = np.nan\n"
   ]
  },
  {
   "cell_type": "code",
   "execution_count": 94,
   "metadata": {},
   "outputs": [
    {
     "data": {
      "text/plain": [
       "0              NaN\n",
       "1         9.112176\n",
       "2              NaN\n",
       "3         8.571303\n",
       "4              NaN\n",
       "           ...    \n",
       "33488     6.030685\n",
       "33489     8.196988\n",
       "33490     6.198479\n",
       "33491          NaN\n",
       "33492    10.064756\n",
       "Name: CollectedAmt_log, Length: 33493, dtype: float64"
      ]
     },
     "execution_count": 94,
     "metadata": {},
     "output_type": "execute_result"
    }
   ],
   "source": [
    "data_predict[\"CollectedAmt_log\"] = np.log(data_predict[\"CollectedAmt\"])\n",
    "data_predict[\"CollectedAmt_log\"]"
   ]
  },
  {
   "cell_type": "code",
   "execution_count": 95,
   "metadata": {},
   "outputs": [
    {
     "data": {
      "text/plain": [
       "<AxesSubplot:xlabel='CollectedAmt_log', ylabel='Count'>"
      ]
     },
     "execution_count": 95,
     "metadata": {},
     "output_type": "execute_result"
    },
    {
     "data": {
      "image/png": "[encoded data removed]",
      "text/plain": [
       "<Figure size 432x288 with 1 Axes>"
      ]
     },
     "metadata": {
      "needs_background": "light"
     },
     "output_type": "display_data"
    }
   ],
   "source": [
    "sns.histplot(data_predict[\"CollectedAmt_log\"], kde=True)"
   ]
  },
  {
   "cell_type": "code",
   "execution_count": null,
   "metadata": {},
   "outputs": [],
   "source": [
    "data.describe().T"
   ]
  },
  {
   "cell_type": "code",
   "execution_count": 96,
   "metadata": {},
   "outputs": [],
   "source": [
    "data_predict.loc[data_predict['BillingAmt'] == 0,'BillingAmt'] = np.nan\n",
    "data_predict.loc[data_predict['DebtAmt'] == 0,'DebtAmt'] = np.nan\n",
    "data_predict.loc[data_predict['WriteOffAmt'] == 0,'WriteOffAmt'] = np.nan\n",
    "data_predict.loc[data_predict['CollectionRatio'] == 0,'CollectionRatio'] = np.nan\n",
    "data_predict.loc[data_predict['TotalElectricityBill'] == 0,'TotalElectricityBill'] = np.nan\n",
    "data_predict.loc[data_predict['DebtBillingRatio'] == 0,'DebtBillingRatio'] = np.nan\n",
    "data_predict.loc[data_predict['AverageBillingAmt'] == 0,'AverageBillingAmt'] = np.nan"
   ]
  },
  {
   "cell_type": "code",
   "execution_count": 97,
   "metadata": {},
   "outputs": [],
   "source": [
    "data_predict[\"BillingAmt_log\"] = np.log(data_predict[\"BillingAmt\"])\n",
    "data_predict[\"DebtAmt_log\"] = np.log(data_predict[\"DebtAmt\"])\n",
    "data_predict[\"WriteOffAmt_log\"] = np.log(data_predict[\"WriteOffAmt\"])\n",
    "data_predict[\"CollectionRatio_log\"] = np.log(data_predict[\"CollectionRatio\"]+0.0001)\n",
    "data_predict[\"TotalElectricityBill_log\"] = np.log(data_predict[\"TotalElectricityBill\"])\n",
    "data_predict[\"DebtBillingRatio_log\"] = np.log(data_predict[\"DebtBillingRatio\"])\n",
    "data_predict[\"AverageBillingAmt_log\"] = np.log(data_predict[\"AverageBillingAmt\"])"
   ]
  },
  {
   "cell_type": "code",
   "execution_count": null,
   "metadata": {},
   "outputs": [],
   "source": [
    "data_predict.head()"
   ]
  },
  {
   "cell_type": "code",
   "execution_count": 98,
   "metadata": {},
   "outputs": [],
   "source": [
    "data_predict = data_predict.apply(pd.to_numeric, errors='coerce').fillna(0, downcast='infer')"
   ]
  },
  {
   "cell_type": "code",
   "execution_count": 126,
   "metadata": {},
   "outputs": [],
   "source": [
    "from sklearn.impute import SimpleImputer\n",
    "rep_0 = SimpleImputer(missing_values=0, strategy=\"mean\")\n",
    "cols=['Value_log','PropertySize_log','CollectedAmt_log','BillingAmt_log','DebtAmt_log','WriteOffAmt_log','CollectionRatio_log'\n",
    "     ,'TotalElectricityBill_log','DebtBillingRatio_log','AverageBillingAmt_log']\n",
    "imputer = rep_0.fit(data_predict[cols])\n",
    "data_predict[cols] = imputer.transform(data_predict[cols])"
   ]
  },
  {
   "cell_type": "code",
   "execution_count": null,
   "metadata": {},
   "outputs": [],
   "source": [
    "data.describe().T"
   ]
  },
  {
   "cell_type": "code",
   "execution_count": 104,
   "metadata": {},
   "outputs": [],
   "source": [
    "data_predict.drop(['Value','PropertySize','BillingAmt','AverageBillingAmt','CollectedAmt',\n",
    "           'DebtAmt','WriteOffAmt', 'CollectionRatio', 'DebtBillingRatio','TotalElectricityBill'], axis=1, inplace = True)"
   ]
  },
  {
   "cell_type": "code",
   "execution_count": 106,
   "metadata": {},
   "outputs": [],
   "source": [
    "Xp = data_predict\n",
    "Xp = pd.get_dummies(Xp, drop_first = True)"
   ]
  },
  {
   "cell_type": "code",
   "execution_count": null,
   "metadata": {},
   "outputs": [],
   "source": [
    "X = data.drop(['Label'],axis=1)\n",
    "X = pd.get_dummies(X,drop_first=True)\n",
    "y = data ['Label']\n"
   ]
  },
  {
   "cell_type": "code",
   "execution_count": null,
   "metadata": {},
   "outputs": [],
   "source": [
    "x_train, x_val, y_train, y_val = train_test_split(X, y, test_size=0.3, random_state=1, stratify = y)\n"
   ]
  },
  {
   "cell_type": "code",
   "execution_count": null,
   "metadata": {},
   "outputs": [],
   "source": [
    "x_train.shape, x_val.shape"
   ]
  },
  {
   "cell_type": "code",
   "execution_count": null,
   "metadata": {},
   "outputs": [],
   "source": [
    "from sklearn import metrics\n",
    "\n",
    "from sklearn.linear_model import LogisticRegression\n",
    "\n",
    "# Fit the model on train\n",
    "model = LogisticRegression(solver=\"liblinear\")\n",
    "model.fit(x_train, y_train)\n",
    "#predict on val\n",
    "y_predict = model.predict(x_val)\n",
    "\n",
    "\n",
    "coef_df = pd.DataFrame(model.coef_)\n",
    "coef_df['intercept'] = model.intercept_\n",
    "print(coef_df)"
   ]
  },
  {
   "cell_type": "code",
   "execution_count": null,
   "metadata": {},
   "outputs": [],
   "source": [
    "model_score1 = model.score(x_train, y_train)\n",
    "model_score2 = model.score(x_val, y_val)\n",
    "print(model_score1,model_score2)"
   ]
  },
  {
   "cell_type": "code",
   "execution_count": null,
   "metadata": {},
   "outputs": [],
   "source": [
    "cm=metrics.confusion_matrix(y_val, y_predict, labels=[1, 0])\n",
    "\n",
    "df_cm = pd.DataFrame(cm, index = [i for i in [\"1\",\"0\"]],\n",
    "                  columns = [i for i in [\"Predict 1\",\"Predict 0\"]])\n",
    "plt.figure(figsize = (7,5))\n",
    "sns.heatmap(df_cm, annot=True)"
   ]
  },
  {
   "cell_type": "code",
   "execution_count": null,
   "metadata": {},
   "outputs": [],
   "source": [
    "# defining a function to compute different metrics to check performance of a classification model built using sklearn\n",
    "def model_performance_classification_sklearn(model, predictors, target):\n",
    "    \"\"\"\n",
    "    Function to compute different metrics to check classification model performance\n",
    "\n",
    "    model: classifier\n",
    "    predictors: independent variables\n",
    "    target: dependent variable\n",
    "    \"\"\"\n",
    "\n",
    "    # predicting using the independent variables\n",
    "    pred = model.predict(predictors)\n",
    "\n",
    "    acc = accuracy_score(target, pred)  # to compute Accuracy\n",
    "    recall = recall_score(target, pred)  # to compute Recall\n",
    "    precision = precision_score(target, pred)  # to compute Precision\n",
    "    f1 = f1_score(target, pred)  # to compute F1-score\n",
    "\n",
    "    # creating a dataframe of metrics\n",
    "    df_perf = pd.DataFrame(\n",
    "        {\n",
    "            \"Accuracy\": acc,\n",
    "            \"Recall\": recall,\n",
    "            \"Precision\": precision,\n",
    "            \"F1\": f1,\n",
    "        },\n",
    "        index=[0],\n",
    "    )\n",
    "\n",
    "    return df_perf"
   ]
  },
  {
   "cell_type": "code",
   "execution_count": null,
   "metadata": {},
   "outputs": [],
   "source": [
    "def confusion_matrix_sklearn(model, predictors, target):\n",
    "    \"\"\"\n",
    "    To plot the confusion_matrix with percentages\n",
    "\n",
    "    model: classifier\n",
    "    predictors: independent variables\n",
    "    target: dependent variable\n",
    "    \"\"\"\n",
    "    y_pred = model.predict(predictors)\n",
    "    cm = confusion_matrix(target, y_pred)\n",
    "    labels = np.asarray(\n",
    "        [\n",
    "            [\"{0:0.0f}\".format(item) + \"\\n{0:.2%}\".format(item / cm.flatten().sum())]\n",
    "            for item in cm.flatten()\n",
    "        ]\n",
    "    ).reshape(2, 2)\n",
    "\n",
    "    plt.figure(figsize=(6, 4))\n",
    "    sns.heatmap(cm, annot=labels, fmt=\"\")\n",
    "    plt.ylabel(\"True label\")\n",
    "    plt.xlabel(\"Predicted label\")"
   ]
  },
  {
   "cell_type": "code",
   "execution_count": null,
   "metadata": {},
   "outputs": [],
   "source": [
    "#we can pass a dictionary {0:0.18,1:0.81} to the model to specify the weight of each class and the decision tree will give more weightage to class 1.\n",
    "dtree = DecisionTreeClassifier(criterion='gini',class_weight={0:0.18,1:0.81},random_state=1)"
   ]
  },
  {
   "cell_type": "code",
   "execution_count": null,
   "metadata": {},
   "outputs": [],
   "source": [
    "dtree.fit(x_train, y_train)"
   ]
  },
  {
   "cell_type": "code",
   "execution_count": null,
   "metadata": {},
   "outputs": [],
   "source": [
    "confusion_matrix_sklearn(dtree, x_val, y_val)"
   ]
  },
  {
   "cell_type": "code",
   "execution_count": null,
   "metadata": {},
   "outputs": [],
   "source": [
    "dtree_model_train_perf=model_performance_classification_sklearn(dtree, x_train, y_train)\n",
    "print(\"Training performance \\n\",dtree_model_train_perf)"
   ]
  },
  {
   "cell_type": "code",
   "execution_count": null,
   "metadata": {},
   "outputs": [],
   "source": [
    "dtree_model_test_perf=model_performance_classification_sklearn(dtree, x_val, y_val)\n",
    "print(\"Validation performance \\n\",dtree_model_test_perf)"
   ]
  },
  {
   "cell_type": "code",
   "execution_count": null,
   "metadata": {},
   "outputs": [],
   "source": [
    "bagging = BaggingClassifier(random_state=1)\n",
    "BG_model = bagging.fit(x_train,y_train)"
   ]
  },
  {
   "cell_type": "code",
   "execution_count": null,
   "metadata": {},
   "outputs": [],
   "source": [
    "confusion_matrix_sklearn(bagging, x_val, y_val)"
   ]
  },
  {
   "cell_type": "code",
   "execution_count": null,
   "metadata": {},
   "outputs": [],
   "source": [
    "bagging_model_train_perf=model_performance_classification_sklearn(bagging, x_train, y_train)\n",
    "print(\"Training performance \\n\",bagging_model_train_perf)"
   ]
  },
  {
   "cell_type": "code",
   "execution_count": 108,
   "metadata": {},
   "outputs": [
    {
     "ename": "NameError",
     "evalue": "name 'model_performance_classification_sklearn' is not defined",
     "output_type": "error",
     "traceback": [
      "\u001b[1;31m---------------------------------------------------------------------------\u001b[0m",
      "\u001b[1;31mNameError\u001b[0m                                 Traceback (most recent call last)",
      "\u001b[1;32m<ipython-input-108-86e340baa7b8>\u001b[0m in \u001b[0;36m<module>\u001b[1;34m\u001b[0m\n\u001b[1;32m----> 1\u001b[1;33m \u001b[0mbagging_model_test_perf\u001b[0m\u001b[1;33m=\u001b[0m\u001b[0mmodel_performance_classification_sklearn\u001b[0m\u001b[1;33m(\u001b[0m\u001b[0mbagging\u001b[0m\u001b[1;33m,\u001b[0m \u001b[0mx_val\u001b[0m\u001b[1;33m,\u001b[0m \u001b[0my_val\u001b[0m\u001b[1;33m)\u001b[0m\u001b[1;33m\u001b[0m\u001b[1;33m\u001b[0m\u001b[0m\n\u001b[0m\u001b[0;32m      2\u001b[0m \u001b[0mprint\u001b[0m\u001b[1;33m(\u001b[0m\u001b[1;34m\"validation performance \\n\"\u001b[0m\u001b[1;33m,\u001b[0m\u001b[0mbagging_model_test_perf\u001b[0m\u001b[1;33m)\u001b[0m\u001b[1;33m\u001b[0m\u001b[1;33m\u001b[0m\u001b[0m\n",
      "\u001b[1;31mNameError\u001b[0m: name 'model_performance_classification_sklearn' is not defined"
     ]
    }
   ],
   "source": [
    "bagging_model_test_perf=model_performance_classification_sklearn(bagging, x_val, y_val)\n",
    "print(\"validation performance \\n\",bagging_model_test_perf)"
   ]
  },
  {
   "cell_type": "code",
   "execution_count": 107,
   "metadata": {},
   "outputs": [
    {
     "ename": "NameError",
     "evalue": "name 'BG_model' is not defined",
     "output_type": "error",
     "traceback": [
      "\u001b[1;31m---------------------------------------------------------------------------\u001b[0m",
      "\u001b[1;31mNameError\u001b[0m                                 Traceback (most recent call last)",
      "\u001b[1;32m<ipython-input-107-8b261dd66ef3>\u001b[0m in \u001b[0;36m<module>\u001b[1;34m\u001b[0m\n\u001b[1;32m----> 1\u001b[1;33m \u001b[0mBG_model\u001b[0m\u001b[1;33m.\u001b[0m\u001b[0mpredict\u001b[0m\u001b[1;33m(\u001b[0m\u001b[1;33m[\u001b[0m\u001b[1;33m[\u001b[0m\u001b[0mXp\u001b[0m\u001b[1;33m]\u001b[0m\u001b[1;33m]\u001b[0m\u001b[1;33m)\u001b[0m\u001b[1;33m\u001b[0m\u001b[1;33m\u001b[0m\u001b[0m\n\u001b[0m",
      "\u001b[1;31mNameError\u001b[0m: name 'BG_model' is not defined"
     ]
    }
   ],
   "source": [
    "BG_model.predict([[Xp]])"
   ]
  },
  {
   "cell_type": "code",
   "execution_count": null,
   "metadata": {},
   "outputs": [],
   "source": []
  }
 ],
 "metadata": {
  "kernelspec": {
   "display_name": "Python 3 (ipykernel)",
   "language": "python",
   "name": "python3"
  },
  "language_info": {
   "codemirror_mode": {
    "name": "ipython",
    "version": 3
   },
   "file_extension": ".py",
   "mimetype": "text/x-python",
   "name": "python",
   "nbconvert_exporter": "python",
   "pygments_lexer": "ipython3",
   "version": "3.9.7"
  }
 },
 "nbformat": 4,
 "nbformat_minor": 4
}
